{
 "cells": [
  {
   "cell_type": "markdown",
   "metadata": {
    "deletable": false,
    "editable": false,
    "nbgrader": {
     "cell_type": "markdown",
     "checksum": "efea0210a81fca40bba2b1e02966b803",
     "grade": false,
     "grade_id": "cell-63f5067df035230d",
     "locked": true,
     "schema_version": 3,
     "solution": false
    }
   },
   "source": [
    "# Assignment 2: Multi-Scale Pyramids\n",
    "\n",
    "## General Information\n",
    "**Submmision:** in pairs.\n",
    "\n",
    "## Introduction\n",
    "In this exercise you will practice working with image pyramids, and get some first-hand experience with two of their applications:\n",
    "* **Image focusing:** Using two or more images taken with different planes of focus in order to get a multi-focus image.\n",
    "* **Image mosaicing:** Stitching images together in a visually-appealing way.\n",
    "\n",
    "The exercise involves coding with Python. If you're unfamiliar with python, you may use the following [tutorial](http://cs231n.github.io/python-numpy-tutorial/).\n",
    "\n",
    "**Note:** some cells are read-only, and can't be modified. There are also some read-only empty cells, that contain hidden tests."
   ]
  },
  {
   "cell_type": "markdown",
   "metadata": {
    "deletable": false,
    "nbgrader": {
     "cell_type": "markdown",
     "checksum": "8254d76ed0ff7454be4912a197c6ed2c",
     "grade": true,
     "grade_id": "cell-9c316bfce0678cb3",
     "locked": false,
     "points": 0,
     "schema_version": 3,
     "solution": true
    }
   },
   "source": [
    "## Student details\n",
    "\n",
    "### Student A\n",
    "**Name:**\n",
    "YOUR ANSWER HERE\n",
    "\n",
    "\n",
    "**Email:**\n",
    "YOUR ANSWER HERE\n",
    "\n",
    "\n",
    "**ID:**\n",
    "YOUR ANSWER HERE\n",
    "\n",
    "\n",
    "### Student B\n",
    "**Name:**\n",
    "YOUR ANSWER HERE\n",
    "\n",
    "\n",
    "**Email:**\n",
    "YOUR ANSWER HERE\n",
    "\n",
    "\n",
    "**ID:**\n",
    "YOUR ANSWER HERE"
   ]
  },
  {
   "cell_type": "markdown",
   "metadata": {
    "deletable": false,
    "editable": false,
    "nbgrader": {
     "cell_type": "markdown",
     "checksum": "b9f5c5f3422ca2731aa3a1ddd939be37",
     "grade": false,
     "grade_id": "cell-77ddbaa26ab47b94",
     "locked": true,
     "schema_version": 3,
     "solution": false
    }
   },
   "source": [
    "## Tips and Remarks\n",
    "- General\n",
    "    - Prefer the use of built-in functions when possible, as they are much\n",
    "faster (and extensively tested)\n",
    "    - To avoid confusion, it is better to use the terms \"finest level\" and\n",
    "\"coarsest level\", instead of \"top level\" and \"bottom level\"\n",
    "    - Add proper documentation to your code\n",
    "- Python tips\n",
    "    - To sub-sample a vector, you can use this syntax: `vec[::2]` (this\n",
    "will take only the even indices)\n",
    "    - The following numpy methods may be useful, especially in the last\n",
    "task: `where`, `argmax`, `which`"
   ]
  },
  {
   "cell_type": "code",
   "execution_count": null,
   "metadata": {
    "deletable": false,
    "editable": false,
    "nbgrader": {
     "cell_type": "code",
     "checksum": "debb11f6cefc77cd12c4c3efdd7bab20",
     "grade": false,
     "grade_id": "cell-07f0709649b8cd6e",
     "locked": true,
     "schema_version": 3,
     "solution": false
    }
   },
   "outputs": [],
   "source": [
    "from collections import namedtuple\n",
    "\n",
    "import numpy as np\n",
    "from scipy.ndimage import convolve\n",
    "import ipywidgets as widgets\n",
    "\n",
    "from utils import imread, imwrite as _imwrite, imshow as _imshow, rgb2grey"
   ]
  },
  {
   "cell_type": "markdown",
   "metadata": {
    "deletable": false,
    "editable": false,
    "nbgrader": {
     "cell_type": "markdown",
     "checksum": "6698f34cb01ecd15ed267fb45f87cdb5",
     "grade": false,
     "grade_id": "cell-1b30040462b02673",
     "locked": true,
     "schema_version": 3,
     "solution": false
    }
   },
   "source": [
    "# 0 Warm-up\n",
    "\n",
    "When testing computer vision algorithms, it's necessary to visualize the results and to evaluate them with your own eyes. To make sure that the image is presented as you would expect, it's important to convert it to integer representation. That's because different packages (`opencv`, `PIL`, `tensorflow`) handle floating-point images differently."
   ]
  },
  {
   "cell_type": "markdown",
   "metadata": {
    "deletable": false,
    "editable": false,
    "nbgrader": {
     "cell_type": "markdown",
     "checksum": "0ab11d9191ec5ca3ab9ed6438f152b43",
     "grade": false,
     "grade_id": "cell-64770d319efab1ba",
     "locked": true,
     "schema_version": 3,
     "solution": false
    }
   },
   "source": [
    "### 0.1.1 Implement `safe_normalize()`\n",
    "\n",
    "In this exercise, we provide you most of the needed I/O methods. You only need to implement the `safe_normalize()` function, which is given image and bounds (the expected `min` and `max` values), and normalizes it to integers (`np.uint8`) in the range `[0, 255]`.\n",
    "\n",
    "You **may not** assume that the values in `image` are in the expected `bounds`, as it usually happens with generated/interpolated images. You **should** explicitly handle this case, and map out-of-bound values to the nearest value in `bounds`."
   ]
  },
  {
   "cell_type": "code",
   "execution_count": null,
   "metadata": {
    "deletable": false,
    "nbgrader": {
     "cell_type": "code",
     "checksum": "e8016f7e0ab1cf008d4804f8fa952d46",
     "grade": true,
     "grade_id": "cell-8a6e0de6675a2507",
     "locked": false,
     "points": 0,
     "schema_version": 3,
     "solution": true
    }
   },
   "outputs": [],
   "source": [
    "def safe_normalize(image, bounds=(0, 1)):\n",
    "    \"\"\"Receive an `image` represented by float numbers, with given range `bounds`, and convert it to `uint8`\n",
    "\n",
    "    Args:\n",
    "        image (np.ndarray): the image\n",
    "        bounds (Tuple[float, float]): tuple of `(minval, maxval)`,  minimum and maximum values of image\n",
    "    \n",
    "    Returns:\n",
    "        np.ndarray: the normalized image, with `dtype=np.uint8`\n",
    "\n",
    "    \"\"\"\n",
    "    # YOUR CODE HERE\n",
    "    raise NotImplementedError()"
   ]
  },
  {
   "cell_type": "code",
   "execution_count": null,
   "metadata": {},
   "outputs": [],
   "source": [
    "### PROVIDED FUNCTION\n",
    "def imwrite(path, image, bounds=(0, 1), **kwargs):\n",
    "    \"\"\"Normalize `image` and save it to `path`\"\"\"\n",
    "    image = safe_normalize(image, bounds)\n",
    "    return _imwrite(path, image, **kwargs)\n",
    "\n",
    "\n",
    "### PROVIDED FUNCTION\n",
    "def imshow(image, bounds=(0, 1), **kwargs):\n",
    "    \"\"\"Normalize `image` and show it.\"\"\"\n",
    "    image = safe_normalize(image, bounds)\n",
    "    return _imshow(image, **kwargs)\n",
    "\n",
    "\n",
    "### PROVIDED FUNCTION\n",
    "def imshow_tabs(images, tab_names, titles=None, kwargs=None):\n",
    "    \"\"\"Normalize `images`, and show them in tabs with the given tab names\"\"\"\n",
    "    assert len(images) == len(tab_names)\n",
    "    if not isinstance(titles, (list, tuple)):\n",
    "        titles = [titles] * len(images)\n",
    "    assert len(images) == len(titles)\n",
    "    if kwargs is None:\n",
    "        kwargs = {}\n",
    "    n = len(images)\n",
    "    if isinstance(kwargs, dict):\n",
    "        kwargs = [kwargs for _ in range(n)]\n",
    "    outputs = [widgets.Output() for _ in range(n)]\n",
    "    boxes = widgets.Tab(children=outputs)\n",
    "    for i, (output, image, tab_name, title, kw) in enumerate(zip(outputs, images, tab_names, titles, kwargs)):\n",
    "        boxes.set_title(i, tab_name)\n",
    "        with output:\n",
    "            imshow(image, title=title, **kw)\n",
    "    \n",
    "    display(boxes)    \n",
    "\n",
    "### PROVIDED FUNCTION\n",
    "def imshow_hbox(images, titles=None, kwargs=None):\n",
    "    \"\"\"Normalize `images`, and show them side-by-side\"\"\"\n",
    "    if kwargs is None:\n",
    "        kwargs = {}\n",
    "    if not isinstance(titles, (list, tuple)):\n",
    "        titles = [titles] * len(images)\n",
    "    assert len(images) == len(titles)\n",
    "\n",
    "    n = len(images)\n",
    "    if isinstance(kwargs, dict):\n",
    "        kwargs = [kwargs for _ in range(n)]\n",
    "    outputs = [widgets.Output() for _ in range(n)]\n",
    "    boxes = widgets.HBox(children=outputs)\n",
    "    for i, (output, image, title, kw) in enumerate(zip(outputs, images, titles, kwargs)):\n",
    "        with output:\n",
    "            imshow(image, title=title, **kw)\n",
    "    \n",
    "    display(boxes)\n",
    "    \n",
    "### PROVIDED FUNCTION\n",
    "def imshow_vbox(images, titles=None, kwargs=None):\n",
    "    \"\"\"Normalize `images`, and show them side-by-side\"\"\"\n",
    "    if kwargs is None:\n",
    "        kwargs = {}\n",
    "    if not isinstance(titles, (list, tuple)):\n",
    "        titles = [titles] * len(images)\n",
    "    assert len(images) == len(titles)\n",
    "\n",
    "    n = len(images)\n",
    "    if isinstance(kwargs, dict):\n",
    "        kwargs = [kwargs for _ in range(n)]\n",
    "    outputs = [widgets.Output() for _ in range(n)]\n",
    "    boxes = widgets.VBox(children=outputs)\n",
    "    for i, (output, image, title, kw) in enumerate(zip(outputs, images, titles, kwargs)):\n",
    "        with output:\n",
    "            imshow(image, title=title, **kw)\n",
    "    \n",
    "    display(boxes)"
   ]
  },
  {
   "cell_type": "markdown",
   "metadata": {
    "deletable": false,
    "editable": false,
    "nbgrader": {
     "cell_type": "markdown",
     "checksum": "9c88ff854cad681e26281ccfdc537bd6",
     "grade": false,
     "grade_id": "cell-e6608e28f0c5e207",
     "locked": true,
     "schema_version": 3,
     "solution": false
    }
   },
   "source": [
    "# 1 Image Pyramids\n",
    "\n",
    "In this part of the exercise, you will implement basic image pyramid functions, following the paper \"The Laplacian Pyramid as a Compact Image Code\" by Burt and Adelson, 1983. The paper is included in this exercise, and can be found in the `papers/` direcory.\n",
    "\n",
    "All of the tests will be run with the following parameters:"
   ]
  },
  {
   "cell_type": "code",
   "execution_count": null,
   "metadata": {},
   "outputs": [],
   "source": [
    "depth = 5\n",
    "a = 0.375"
   ]
  },
  {
   "cell_type": "markdown",
   "metadata": {
    "deletable": false,
    "editable": false,
    "nbgrader": {
     "cell_type": "markdown",
     "checksum": "d350b2abcce25dd8071395ad01793a62",
     "grade": false,
     "grade_id": "cell-9dea412a15ab2090",
     "locked": true,
     "schema_version": 3,
     "solution": false
    }
   },
   "source": [
    "## 1.1 Gaussian Pyramids [30 Points]"
   ]
  },
  {
   "cell_type": "markdown",
   "metadata": {
    "deletable": false,
    "editable": false,
    "nbgrader": {
     "cell_type": "markdown",
     "checksum": "2537fe5995b24c46c637d93570bf0191",
     "grade": false,
     "grade_id": "cell-d8e4766c226b298c",
     "locked": true,
     "schema_version": 3,
     "solution": false
    }
   },
   "source": [
    "### 1.1.1 Implement `pyramid_kernel()` [5 points]\n",
    "\n",
    "Implement the `pyramid_kernel()` function, which creates the *Generating Kernel* depending on the parameter `a` (see page 533 in the paper)."
   ]
  },
  {
   "cell_type": "code",
   "execution_count": null,
   "metadata": {
    "deletable": false,
    "nbgrader": {
     "cell_type": "code",
     "checksum": "172fb623835daf72d0766a2679a385c5",
     "grade": false,
     "grade_id": "pyramid_kernel",
     "locked": false,
     "schema_version": 3,
     "solution": true
    }
   },
   "outputs": [],
   "source": [
    "def pyramid_kernel(a):\n",
    "    \"\"\"Return the 5-by-5 generating kernel, given parameter `a`\n",
    "    \n",
    "    Args:\n",
    "        a (float): the kernel parameter\n",
    "    \n",
    "    Returns:\n",
    "        np.ndarray: 5-by-5 generating kernel\n",
    "    \"\"\"\n",
    "\n",
    "    # YOUR CODE HERE\n",
    "    raise NotImplementedError()"
   ]
  },
  {
   "cell_type": "code",
   "execution_count": null,
   "metadata": {
    "deletable": false,
    "editable": false,
    "nbgrader": {
     "cell_type": "code",
     "checksum": "139f1c52422ec7a6d89e8df53d336d3a",
     "grade": true,
     "grade_id": "test_pyramid_kernel",
     "locked": true,
     "points": 5,
     "schema_version": 3,
     "solution": false
    }
   },
   "outputs": [],
   "source": [
    "KERNEL_0375 = np.array([[1,  4,  6,  4, 1],\n",
    "                        [4, 16, 24, 16, 4],\n",
    "                        [6, 24, 36, 24, 6],\n",
    "                        [4, 16, 24, 16, 4],\n",
    "                        [1,  4,  6,  4, 1]]) / 256.0\n",
    "\n",
    "np.testing.assert_array_equal(pyramid_kernel(a=0.375), KERNEL_0375)"
   ]
  },
  {
   "cell_type": "markdown",
   "metadata": {
    "deletable": false,
    "editable": false,
    "nbgrader": {
     "cell_type": "markdown",
     "checksum": "4aa498746238291595f453dcbac40687",
     "grade": false,
     "grade_id": "cell-16318f71f261fe88",
     "locked": true,
     "schema_version": 3,
     "solution": false
    }
   },
   "source": [
    "### 1.1.2 Implement `pyramid_reduce()` [10 points]\n",
    "Implement the `pyramid_reduce()` (see *REDUCE*, page 533).\n",
    "\n",
    "You're provided with `conv2d()`, and with the `pyramid_expand()` function (see *EXPAND*, page 534)."
   ]
  },
  {
   "cell_type": "code",
   "execution_count": null,
   "metadata": {
    "deletable": false,
    "editable": false,
    "nbgrader": {
     "cell_type": "code",
     "checksum": "8cd9fc71ee3ca312e88b6939cc91efd5",
     "grade": false,
     "grade_id": "cell-d2c3d8c469eead13",
     "locked": true,
     "schema_version": 3,
     "solution": false
    }
   },
   "outputs": [],
   "source": [
    "### PROVIDED FUNCTION\n",
    "def conv2d(image, kernel):\n",
    "    \"\"\"Convolve image with 2D kernel\n",
    "    \n",
    "    Args:\n",
    "        image (np.ndarray): base image\n",
    "        kernel (np.ndarray): kernel to convolve with `image`\n",
    "    \n",
    "    Returns:\n",
    "        np.ndarray: `image` convolved with `kernel`\n",
    "    \"\"\"\n",
    "\n",
    "    if image.ndim == 3 and kernel.ndim == 2:\n",
    "        kernel = np.expand_dims(kernel, -1)\n",
    "    \n",
    "    return convolve(image, kernel, mode='mirror')"
   ]
  },
  {
   "cell_type": "code",
   "execution_count": null,
   "metadata": {
    "deletable": false,
    "nbgrader": {
     "cell_type": "code",
     "checksum": "18dea4ac748d8eb43933f4bbefb0782b",
     "grade": false,
     "grade_id": "pyramid_reduce",
     "locked": false,
     "schema_version": 3,
     "solution": true
    }
   },
   "outputs": [],
   "source": [
    "def pyramid_reduce(image, kernel):\n",
    "    \"\"\"Reduce an image given a kernel\n",
    "    \n",
    "    See:\n",
    "        \"The Laplacian Pyramid as a Compact Image Code\" by Burt & Adelson (1983)\n",
    "    \n",
    "    Args:\n",
    "        image (np.ndarray): image to reduce, of size (2*h, 2*w)\n",
    "        kernel (np.ndarray): kernel to use for the reduction (usually 5x5)\n",
    "    \n",
    "    Returns:\n",
    "        np.ndarray: reduced image, of size (h, w)\n",
    "    \"\"\"\n",
    "    # YOUR CODE HERE\n",
    "    raise NotImplementedError()"
   ]
  },
  {
   "cell_type": "code",
   "execution_count": null,
   "metadata": {
    "deletable": false,
    "editable": false,
    "nbgrader": {
     "cell_type": "code",
     "checksum": "f4c7ec1c6714def2263fbed43c93d9f0",
     "grade": false,
     "grade_id": "pyramid_expand",
     "locked": true,
     "schema_version": 3,
     "solution": false
    }
   },
   "outputs": [],
   "source": [
    "### PROVIDED FUNCTION\n",
    "def pyramid_expand(image, kernel, out_size=None):\n",
    "    \"\"\"Expand an image given a kernel\n",
    "        \n",
    "    Args:\n",
    "        image (np.ndarray): image to expand, of size (h, w)\n",
    "        kernel (np.ndarray): kernel to use for the expansion (usually 5x5)\n",
    "        out_size (Tuple[int, int], optional): the expected shape of the returned image\n",
    "        \n",
    "    Returns:\n",
    "        np.ndarray: expanded image, of size (2*h, 2*w)\n",
    "    \"\"\"\n",
    "    h, w, *c = image.shape\n",
    "    outh, outw = (2 * h, 2 * w) if out_size is None else out_size\n",
    "    assert abs(outh - 2 * h) <= 1 and abs(outw - 2 * w) <= 1, \"`out_size` should be close to `(2*h, 2*w)`\"\n",
    "    new_image = np.zeros((outh, outw, *c))    \n",
    "    new_image[::2, ::2, ...] = image\n",
    "    return conv2d(new_image, 4 * kernel)"
   ]
  },
  {
   "cell_type": "code",
   "execution_count": null,
   "metadata": {
    "deletable": false,
    "editable": false,
    "nbgrader": {
     "cell_type": "code",
     "checksum": "6756c2e249c471a3cfb453f2d61cd653",
     "grade": true,
     "grade_id": "test_pyramid_reduce",
     "locked": true,
     "points": 10,
     "schema_version": 3,
     "solution": false
    }
   },
   "outputs": [],
   "source": [
    "### THIS CELL CONTAINS HIDDEN TESTS"
   ]
  },
  {
   "cell_type": "markdown",
   "metadata": {
    "deletable": false,
    "editable": false,
    "nbgrader": {
     "cell_type": "markdown",
     "checksum": "e47328efebb8179e58c8a0b9e03cf5b6",
     "grade": false,
     "grade_id": "cell-2c30c3708112aa09",
     "locked": true,
     "schema_version": 3,
     "solution": false
    }
   },
   "source": [
    "### 1.1.3 Implement `gaussian_reduce()` [10 points]\n",
    "\n",
    "Implement `gaussian_reduce()`, using your previously implemented methods."
   ]
  },
  {
   "cell_type": "code",
   "execution_count": null,
   "metadata": {
    "deletable": false,
    "nbgrader": {
     "cell_type": "code",
     "checksum": "6e89c9ee25f6c8dc424e494259007709",
     "grade": true,
     "grade_id": "gaussian_reduce",
     "locked": false,
     "points": 10,
     "schema_version": 3,
     "solution": true
    }
   },
   "outputs": [],
   "source": [
    "def gaussian_reduce(image, kernel, depth):\n",
    "    \"\"\"Generate a Gaussian Pyramid from `image`, using `kernel` for reduction\n",
    "    \n",
    "    The pyramid includes the original image (level 0), followed by `depth` reductions\n",
    "    \n",
    "    Args:\n",
    "        image (np.ndarray): image to reduce\n",
    "        kernel (np.ndarray): kernel to use for the reduction (usually 5x5)\n",
    "        depth (int): how many reductions to apply\n",
    "    \n",
    "    Returns:\n",
    "        List[np.ndarray]: List of `depth + 1` pyramid levels, where the first level is the original image\n",
    "    \"\"\"\n",
    "    # YOUR CODE HERE\n",
    "    raise NotImplementedError()"
   ]
  },
  {
   "cell_type": "code",
   "execution_count": null,
   "metadata": {
    "deletable": false,
    "editable": false,
    "nbgrader": {
     "cell_type": "code",
     "checksum": "297c0aaa43177ea33080196292a3d867",
     "grade": true,
     "grade_id": "test_gaussian_reduce",
     "locked": true,
     "points": 0,
     "schema_version": 3,
     "solution": false
    }
   },
   "outputs": [],
   "source": [
    "GaussianPyramidExample = namedtuple('GaussianPyramidExample', 'name path')\n",
    "test_examples = [\n",
    "    GaussianPyramidExample('Weizmann', 'data/pyramids/weizmann.png'),\n",
    "    GaussianPyramidExample('Lenna', 'data/pyramids/lenna.png'),\n",
    "    GaussianPyramidExample('Einstein', 'data/pyramids/einstein.png'),\n",
    "]\n",
    "examples_outputs = widgets.Accordion(children=[widgets.Output() for _ in range(len(test_examples))])\n",
    "\n",
    "kernel = pyramid_kernel(a)\n",
    "for i, example in enumerate(test_examples):\n",
    "    # set example name\n",
    "    examples_outputs.set_title(i, example.name)\n",
    "    \n",
    "    # plot inside example's area\n",
    "    with examples_outputs.children[i]:\n",
    "        im = imread(example.path)\n",
    "        pyramid = gaussian_reduce(im, kernel, depth=depth)\n",
    "        titles = ['Level %d' % i for i in range(len(pyramid))]\n",
    "        imshow_vbox(pyramid, titles=titles)\n",
    "        \n",
    "display(examples_outputs)"
   ]
  },
  {
   "cell_type": "markdown",
   "metadata": {
    "deletable": false,
    "editable": false,
    "nbgrader": {
     "cell_type": "markdown",
     "checksum": "2aed7516734ae3a06d18526b050cf26f",
     "grade": false,
     "grade_id": "cell-f43eb87648350023",
     "locked": true,
     "schema_version": 3,
     "solution": false
    }
   },
   "source": [
    "### 1.1.4 Theoretical Question [5 points]\n",
    "\n",
    "What is the purpose of the Gaussian filter in the pyramid construction? What would happen if only down-sampling was used?"
   ]
  },
  {
   "cell_type": "markdown",
   "metadata": {
    "deletable": false,
    "nbgrader": {
     "cell_type": "markdown",
     "checksum": "7c96be37d90f818c40496e64e6ec50ff",
     "grade": true,
     "grade_id": "cell-f77fbd610d1c9538",
     "locked": false,
     "points": 5,
     "schema_version": 3,
     "solution": true
    }
   },
   "source": [
    "YOUR ANSWER HERE"
   ]
  },
  {
   "cell_type": "markdown",
   "metadata": {
    "deletable": false,
    "editable": false,
    "nbgrader": {
     "cell_type": "markdown",
     "checksum": "f94cadb333c4f983f13fa9da29e22c27",
     "grade": false,
     "grade_id": "cell-dfa913abeb17ad25",
     "locked": true,
     "schema_version": 3,
     "solution": false
    }
   },
   "source": [
    "## 1.2 Laplacian Pyramids [20 Points]\n",
    "\n"
   ]
  },
  {
   "cell_type": "markdown",
   "metadata": {
    "deletable": false,
    "editable": false,
    "nbgrader": {
     "cell_type": "markdown",
     "checksum": "f25d29675617ae78f57e32efc1fb170b",
     "grade": false,
     "grade_id": "cell-7cc837c94a9ce2cf",
     "locked": true,
     "schema_version": 3,
     "solution": false
    }
   },
   "source": [
    "### 1.2.1 Implement `laplacian_reduce()` [10 points]\n",
    "\n",
    "Implement `laplacian_reduce()`, using your previously implemented methods, and the provided `pyramid_expand()` method."
   ]
  },
  {
   "cell_type": "code",
   "execution_count": null,
   "metadata": {
    "deletable": false,
    "nbgrader": {
     "cell_type": "code",
     "checksum": "62054dd69ac75cc9705c78647b5456d7",
     "grade": false,
     "grade_id": "laplacian_reduce",
     "locked": false,
     "schema_version": 3,
     "solution": true
    }
   },
   "outputs": [],
   "source": [
    "def laplacian_reduce(image, kernel, depth):\n",
    "    \"\"\"Generate a Laplacian Pyramid from `image`, using `kernel` for reduction\n",
    "    \n",
    "    Args:\n",
    "        image (np.ndarray): image to reduce\n",
    "        kernel (np.ndarray): kernel to use for the reduction (usually 5x5)\n",
    "        depth (int): how many reductions to apply\n",
    "    \n",
    "    Returns:\n",
    "        List[np.ndarray]: List of `depth + 1` pyramid levels\n",
    "    \"\"\"\n",
    "    # YOUR CODE HERE\n",
    "    raise NotImplementedError()"
   ]
  },
  {
   "cell_type": "code",
   "execution_count": null,
   "metadata": {
    "deletable": false,
    "editable": false,
    "nbgrader": {
     "cell_type": "code",
     "checksum": "2912d4e43b8abaa316de63654db450e0",
     "grade": true,
     "grade_id": "test_laplacian_reduce",
     "locked": true,
     "points": 10,
     "schema_version": 3,
     "solution": false
    }
   },
   "outputs": [],
   "source": [
    "LaplacianPyramidExample = namedtuple('LaplacianPyramidExample', 'name path')\n",
    "test_examples = [\n",
    "    LaplacianPyramidExample('Weizmann', 'data/pyramids/weizmann.png'),\n",
    "    LaplacianPyramidExample('Lenna', 'data/pyramids/lenna.png'),\n",
    "    LaplacianPyramidExample('Einstein', 'data/pyramids/einstein.png'),\n",
    "]\n",
    "examples_outputs = widgets.Accordion(children=[widgets.Output() for _ in range(len(test_examples))])\n",
    "\n",
    "kernel = pyramid_kernel(a)\n",
    "for i, example in enumerate(test_examples):\n",
    "    # set example name\n",
    "    examples_outputs.set_title(i, example.name)\n",
    "    \n",
    "    # plot inside example's area\n",
    "    with examples_outputs.children[i]:\n",
    "        im = imread(example.path)\n",
    "        pyramid = laplacian_reduce(im, kernel, depth=depth)\n",
    "        titles = ['Level %d' % i for i in range(len(pyramid))]\n",
    "        kwargs = ([{'bounds': (-1, 1)} for _ in range(len(pyramid) - 1)] +  # bounds of laplacian layer\n",
    "                  [{'bounds': (0, 1)}])                                     # bounds of gaussian layer\n",
    "        \n",
    "        imshow_vbox(pyramid, titles=titles, kwargs=kwargs)\n",
    "        \n",
    "display(examples_outputs)"
   ]
  },
  {
   "cell_type": "markdown",
   "metadata": {
    "deletable": false,
    "editable": false,
    "nbgrader": {
     "cell_type": "markdown",
     "checksum": "e6edeeb4ea8a6b5922d39773f1175533",
     "grade": false,
     "grade_id": "cell-c4bcf90195bff95b",
     "locked": true,
     "schema_version": 3,
     "solution": false
    }
   },
   "source": [
    "### 1.2.2 Theoretical Question [3 points]\n",
    "\n",
    "What are the bounds for pixels at each level in the Laplaican pyramid? What is the meaning of bright/dark pixels that we see?"
   ]
  },
  {
   "cell_type": "markdown",
   "metadata": {
    "deletable": false,
    "nbgrader": {
     "cell_type": "markdown",
     "checksum": "94e684b5402a740470ed2037a8e4d385",
     "grade": true,
     "grade_id": "cell-ee2215cc630599a1",
     "locked": false,
     "points": 3,
     "schema_version": 3,
     "solution": true
    }
   },
   "source": [
    "YOUR ANSWER HERE"
   ]
  },
  {
   "cell_type": "markdown",
   "metadata": {
    "deletable": false,
    "editable": false,
    "nbgrader": {
     "cell_type": "markdown",
     "checksum": "c46461ebade37fb169d750767f6b75b4",
     "grade": false,
     "grade_id": "cell-73e1d9809b6ca42b",
     "locked": true,
     "schema_version": 3,
     "solution": false
    }
   },
   "source": [
    "### 1.2.3 Implement `laplacian_expand()` [7 points]\n",
    "\n",
    "Implement `laplacian_expand()` that reconstructs an image from its Laplacian Pyramid."
   ]
  },
  {
   "cell_type": "code",
   "execution_count": null,
   "metadata": {
    "deletable": false,
    "nbgrader": {
     "cell_type": "code",
     "checksum": "56290c20e414d7ce1e54305d5fedea94",
     "grade": true,
     "grade_id": "laplacian_expand",
     "locked": false,
     "points": 0,
     "schema_version": 3,
     "solution": true
    }
   },
   "outputs": [],
   "source": [
    "def laplacian_expand(pyramid, kernel):\n",
    "    \"\"\"Reconstruct an image from a Laplacian Pyramid\n",
    "    \n",
    "    Args:\n",
    "        pyramid (List[np.ndarray]): list of `depth + 1` pyramid levels\n",
    "        kernel (np.ndarray): kernel that was used to create `pyramid`\n",
    "    \n",
    "    Returns:\n",
    "        np.ndarray: reconstructed image\n",
    "    \"\"\"\n",
    "    # YOUR CODE HERE\n",
    "    raise NotImplementedError()"
   ]
  },
  {
   "cell_type": "markdown",
   "metadata": {
    "deletable": false,
    "editable": false,
    "nbgrader": {
     "cell_type": "markdown",
     "checksum": "f48ebacac7a17a9a8a34f021cc86540c",
     "grade": false,
     "grade_id": "cell-182ec8c7348f2e50",
     "locked": true,
     "schema_version": 3,
     "solution": false
    }
   },
   "source": [
    "### 1.2.4 Test your methods: `laplacian_reduce()`, `laplacian_expand()`\n",
    "\n",
    "Run the following tests and make sure that the reconstruced image is identitcal to the original image."
   ]
  },
  {
   "cell_type": "code",
   "execution_count": null,
   "metadata": {
    "deletable": false,
    "editable": false,
    "nbgrader": {
     "cell_type": "code",
     "checksum": "6ef9bf73e0a303d848ed7e2604d23e9e",
     "grade": true,
     "grade_id": "test_laplacian_expand",
     "locked": true,
     "points": 7,
     "schema_version": 3,
     "solution": false
    }
   },
   "outputs": [],
   "source": [
    "LaplacianExpandExample = namedtuple('LaplacianExpandExample', 'name path')\n",
    "test_examples = [\n",
    "    LaplacianExpandExample('Weizmann', 'data/pyramids/weizmann.png'),\n",
    "    LaplacianExpandExample('Lenna', 'data/pyramids/lenna.png'),\n",
    "    LaplacianExpandExample('Einstein', 'data/pyramids/einstein.png'),\n",
    "]\n",
    "examples_outputs = widgets.Accordion(children=[widgets.Output() for _ in range(len(test_examples))])\n",
    "\n",
    "kernel = pyramid_kernel(a)\n",
    "for i, example in enumerate(test_examples):\n",
    "    # set example name\n",
    "    examples_outputs.set_title(i, example.name)\n",
    "    \n",
    "    # plot inside example's area\n",
    "    with examples_outputs.children[i]:\n",
    "        image = imread(example.path)\n",
    "        pyramid = laplacian_reduce(image, kernel, depth=depth)\n",
    "        expanded = laplacian_expand(pyramid, kernel)\n",
    "        imshow_tabs([expanded, image], tab_names=['Reconstructed', 'Original'])\n",
    "        \n",
    "\n",
    "display(examples_outputs)"
   ]
  },
  {
   "cell_type": "markdown",
   "metadata": {
    "deletable": false,
    "editable": false,
    "nbgrader": {
     "cell_type": "markdown",
     "checksum": "d70d419b62294fe65be2226d7e4cc02f",
     "grade": false,
     "grade_id": "cell-784651f428fded57",
     "locked": true,
     "schema_version": 3,
     "solution": false
    }
   },
   "source": [
    "# 2 Applications [50 Points]"
   ]
  },
  {
   "cell_type": "markdown",
   "metadata": {
    "deletable": false,
    "editable": false,
    "nbgrader": {
     "cell_type": "markdown",
     "checksum": "f9dc1c1bd9be40e9e4ef4178a510cebc",
     "grade": false,
     "grade_id": "cell-8b136e9d153a09bf",
     "locked": true,
     "schema_version": 3,
     "solution": false
    }
   },
   "source": [
    "## 2.1 Image Focusing [25 Points]\n",
    "In this part you will experiment with image focusing using pyramids. The goal is to take two pictures that were shot with different focal planes and use them to generate a multi-focus image.\n",
    "Open the article \"Pyramid Methods in Image Processing\" by Burt, Adelson et al. (1984) which is included in this exercise (under `papers/`), and read about image focusing (page 38, blue box). Please note that some errata were corrected for you (marked in red).\n",
    "\n",
    "**Note:** The article addresses gray level images. When focusing RGB images, the correct way is to determine the maximum by the intensity image i.e. use `rgb2grey()` of the image (The final result should be in RGB)."
   ]
  },
  {
   "cell_type": "markdown",
   "metadata": {
    "deletable": false,
    "editable": false,
    "nbgrader": {
     "cell_type": "markdown",
     "checksum": "6519e414a37f561909875446ca9979ca",
     "grade": false,
     "grade_id": "cell-221bc3d6e977269d",
     "locked": true,
     "schema_version": 3,
     "solution": false
    }
   },
   "source": [
    "### 2.1.1 Theoretical Question [10 points]\n",
    "What is the main idea that underlies this method of image focusing? Why should we expect it to work? A brief and concise explanation should suffice."
   ]
  },
  {
   "cell_type": "markdown",
   "metadata": {
    "deletable": false,
    "nbgrader": {
     "cell_type": "markdown",
     "checksum": "d260932f2e08e5e9adc7e2afcaeff7dd",
     "grade": true,
     "grade_id": "cell-9bca1e8517626d54",
     "locked": false,
     "points": 10,
     "schema_version": 3,
     "solution": true
    }
   },
   "source": [
    "YOUR ANSWER HERE"
   ]
  },
  {
   "cell_type": "markdown",
   "metadata": {
    "deletable": false,
    "editable": false,
    "nbgrader": {
     "cell_type": "markdown",
     "checksum": "2873d6a1f3b1230604cf49798468245a",
     "grade": false,
     "grade_id": "cell-cd3be4c29625405d",
     "locked": true,
     "schema_version": 3,
     "solution": false
    }
   },
   "source": [
    "### 2.1.2 Implement `image_focus()` [15 points]\n",
    "\n",
    "Implement `image_focus()`  that receives two unfocused images and combines them into a single focused image. The result should match the focused parts of the given images. You're provided with tabs that can help you flicker between focused/unfocused images to test your result.\n",
    "\n",
    "**Note:** The correct way to combine the coarsest level (the \"gaussian\" level) of the two pyramids is to *average* them, and not to handle them as the finer (\"laplacian\") levels."
   ]
  },
  {
   "cell_type": "code",
   "execution_count": null,
   "metadata": {
    "deletable": false,
    "nbgrader": {
     "cell_type": "code",
     "checksum": "f97633d0185479b92acc208e28151cb4",
     "grade": false,
     "grade_id": "image_focus",
     "locked": false,
     "schema_version": 3,
     "solution": true
    }
   },
   "outputs": [],
   "source": [
    "def image_focus(im1, im2, depth, a):\n",
    "    \"\"\"Generate a focused image from two unfocused images\n",
    "    \n",
    "    Argls:\n",
    "        im1 (np.ndarray): unfocused image #1\n",
    "        im2 (np.ndarray): unfocused image #2\n",
    "        depth (int): depth of pyramids to use\n",
    "        a (float): kernel parameter\n",
    "    \n",
    "    Returns:\n",
    "        np.ndarray: a focused image\n",
    "    \"\"\"\n",
    "    # YOUR CODE HERE\n",
    "    raise NotImplementedError()"
   ]
  },
  {
   "cell_type": "markdown",
   "metadata": {
    "deletable": false,
    "editable": false,
    "nbgrader": {
     "cell_type": "markdown",
     "checksum": "c034650d0a655b9ba3aeed643f4d0429",
     "grade": false,
     "grade_id": "cell-46e99f7e43663ea0",
     "locked": true,
     "schema_version": 3,
     "solution": false
    }
   },
   "source": [
    "### 2.1.3 Test your method: `image_focus()`\n",
    "\n",
    "Run the following tests and make sure that `image_focus()` works well."
   ]
  },
  {
   "cell_type": "code",
   "execution_count": null,
   "metadata": {
    "deletable": false,
    "editable": false,
    "nbgrader": {
     "cell_type": "code",
     "checksum": "0aa9d6e7eea02e30742f839b5c57bf27",
     "grade": true,
     "grade_id": "test_image_focus",
     "locked": true,
     "points": 15,
     "schema_version": 3,
     "solution": false
    }
   },
   "outputs": [],
   "source": [
    "FocusExample = namedtuple('FocusExample', 'name path1 path2')\n",
    "test_examples = [\n",
    "    FocusExample('Leopard', 'data/focus/leopard1.bmp', 'data/focus/leopard2.bmp'),\n",
    "    FocusExample('Pumpkin', 'data/focus/pumpkin1.png', 'data/focus/pumpkin2.png'),\n",
    "    FocusExample('Tree', 'data/focus/tree1.png', 'data/focus/tree2.png'),\n",
    "    FocusExample('Einstein', 'data/focus/einstein1.png', 'data/focus/einstein2.png'),\n",
    "    FocusExample('Mountain', 'data/focus/mountain1.png', 'data/focus/mountain2.png'),\n",
    "]\n",
    "examples_outputs = widgets.Accordion(children=[widgets.Output() for _ in range(len(test_examples))])\n",
    "\n",
    "kernel = pyramid_kernel(a)\n",
    "for i, example in enumerate(test_examples):\n",
    "    # set example name\n",
    "    examples_outputs.set_title(i, example.name)\n",
    "    \n",
    "    # plot inside example's area\n",
    "    with examples_outputs.children[i]:\n",
    "        im1 = imread(example.path1)\n",
    "        im2 = imread(example.path2)\n",
    "        focused = image_focus(im1, im2, depth=depth, a=a)\n",
    "        images = [np.vstack([img, (focused - img) / 2 + 0.5]) for img in [focused, im1, im2]]\n",
    "        tab_names = ['Focused', 'Image 1', 'Image 2']\n",
    "        imshow_tabs(images, tab_names, titles='`image` (top), `focused - image` (bottom)')\n",
    "\n",
    "display(examples_outputs)"
   ]
  },
  {
   "cell_type": "markdown",
   "metadata": {
    "deletable": false,
    "editable": false,
    "nbgrader": {
     "cell_type": "markdown",
     "checksum": "9ed9852bb578b50d984842a0b4764789",
     "grade": false,
     "grade_id": "cell-ffe3219710a2a9d8",
     "locked": true,
     "schema_version": 3,
     "solution": false
    }
   },
   "source": [
    "### 2.1.4 (Bonus) Implement `image_multi_focus()` [+10 points]\n",
    "\n",
    "Generalize the algorithm for image focusing, and implement `image_multi_focus()` that takes *multiple* (more than 2) unfocused images, and combines them into a single focused image."
   ]
  },
  {
   "cell_type": "code",
   "execution_count": null,
   "metadata": {
    "deletable": false,
    "nbgrader": {
     "cell_type": "code",
     "checksum": "a680ad6d818fe2ebadb60d14b2046644",
     "grade": false,
     "grade_id": "image_focus_multi",
     "locked": false,
     "schema_version": 3,
     "solution": true
    }
   },
   "outputs": [],
   "source": [
    "def image_multi_focus(images, depth, a):\n",
    "    \"\"\"Generate a focused image from multiple unfocused images\n",
    "    \n",
    "    Args:\n",
    "        images (List[np.ndarray]): list of unfocused images\n",
    "        depth (int): depth of pyramids to use\n",
    "        a (float): kernel parameter\n",
    "    \n",
    "    Returns:\n",
    "        np.ndarray: a focused image\n",
    "    \"\"\"\n",
    "    # YOUR CODE HERE\n",
    "    raise NotImplementedError()"
   ]
  },
  {
   "cell_type": "markdown",
   "metadata": {
    "deletable": false,
    "editable": false,
    "nbgrader": {
     "cell_type": "markdown",
     "checksum": "b428823d4fb4329dabffa443e17a41e0",
     "grade": false,
     "grade_id": "cell-42d784f2e7018a50",
     "locked": true,
     "schema_version": 3,
     "solution": false
    }
   },
   "source": [
    "### 2.1.5 (Bonus) Test your method: `image_multi_focus()`\n",
    "\n",
    "Run the following tests and make sure that `image_multi_focus()` works well."
   ]
  },
  {
   "cell_type": "code",
   "execution_count": null,
   "metadata": {
    "deletable": false,
    "editable": false,
    "nbgrader": {
     "cell_type": "code",
     "checksum": "100e948647d547b26f1f7ff302757781",
     "grade": true,
     "grade_id": "test_image_focus_multi",
     "locked": true,
     "points": 0,
     "schema_version": 3,
     "solution": false
    }
   },
   "outputs": [],
   "source": [
    "MultiFocusExample = namedtuple('MultiFocusExample', 'name paths')\n",
    "test_examples = [\n",
    "    MultiFocusExample('Einsten', ['data/multi_focus/einstein%d.png' % (i + 1) for i in range(4)]),\n",
    "    MultiFocusExample('Tree', ['data/multi_focus/tree%d.png' % (i + 1) for i in range(4)]),\n",
    "    MultiFocusExample('Mountain', ['data/multi_focus/mountain%d.png' % (i + 1) for i in range(4)]),\n",
    "]\n",
    "examples_outputs = widgets.Accordion(children=[widgets.Output() for _ in range(len(test_examples))])\n",
    "\n",
    "try:\n",
    "    kernel = pyramid_kernel(a)\n",
    "    for i, example in enumerate(test_examples):\n",
    "        # set example name\n",
    "        examples_outputs.set_title(i, example.name)\n",
    "\n",
    "        # plot inside example's area\n",
    "        with examples_outputs.children[i]:\n",
    "            imgs = [imread(path) for path in example.paths]\n",
    "            focused = image_multi_focus(imgs, depth=depth, a=a)\n",
    "            images = [np.vstack([img, focused - img + 0.5]) for img in [focused] + imgs]\n",
    "            tab_names = ['Focused'] + ['Image %d' % (i + 1) for i in range(len(imgs))]\n",
    "            imshow_tabs(images, tab_names, titles='`image` (top), `focused - image` (bottom)')\n",
    "\n",
    "    display(examples_outputs)\n",
    "\n",
    "except NotImplementedError:\n",
    "    print(\"You should solve the bonus in order to test it.\")"
   ]
  },
  {
   "cell_type": "markdown",
   "metadata": {
    "deletable": false,
    "editable": false,
    "nbgrader": {
     "cell_type": "markdown",
     "checksum": "3989496fc12ef39400a2bc5b24ff3a92",
     "grade": false,
     "grade_id": "cell-af3248d1ec94ef5f",
     "locked": true,
     "schema_version": 3,
     "solution": false
    }
   },
   "source": [
    "## 2.2 Image Mosaicing [25 points]\n",
    "In this part you will get to know a surprising application of image pyramids. It turns out that we can stitch images together in a visually-appealing way if we make the transition separately at each level of the Laplacian pyramid.\n",
    "First, read about image mosaicing in pages 39-40 (green boxes) on the article \"Pyramid Methods in Image Processing\" by Burt, Adelson et al. (1984)."
   ]
  },
  {
   "cell_type": "markdown",
   "metadata": {
    "deletable": false,
    "editable": false,
    "nbgrader": {
     "cell_type": "markdown",
     "checksum": "d8e918dc8b9594e6a0a9969578592683",
     "grade": false,
     "grade_id": "cell-192ed382a733a57b",
     "locked": true,
     "schema_version": 3,
     "solution": false
    }
   },
   "source": [
    "### 2.2.1 Theoretical Question [10 points]\n",
    "What is the main idea of using the Laplacian pyramid for performing image mosaicing? Why should this work better than using a simple smooth transition of the form:\n",
    "\\begin{equation*}\n",
    "I_{out} = \\left( 1-m \\right) \\cdot I_1 + m \\cdot I_2\n",
    "\\end{equation*}\n",
    "\n",
    "where $𝑚$ is a 2D mask with values between 0 and 1 (generated by smoothing a binary mask)?"
   ]
  },
  {
   "cell_type": "markdown",
   "metadata": {
    "deletable": false,
    "nbgrader": {
     "cell_type": "markdown",
     "checksum": "8dd97ed0fe2d8121a554ac628e3e102f",
     "grade": true,
     "grade_id": "cell-c614e51103b21052",
     "locked": false,
     "points": 10,
     "schema_version": 3,
     "solution": true
    }
   },
   "source": [
    "YOUR ANSWER HERE"
   ]
  },
  {
   "cell_type": "markdown",
   "metadata": {
    "deletable": false,
    "editable": false,
    "nbgrader": {
     "cell_type": "markdown",
     "checksum": "6c053afa7b056e5b65b28793918ef276",
     "grade": false,
     "grade_id": "cell-7d4c9544547cfba3",
     "locked": true,
     "schema_version": 3,
     "solution": false
    }
   },
   "source": [
    "### 2.2.2 Implement `image_mosaic()` [15 points]\n",
    "Implement the function `image_mosaic()` that gets two images `im1` and `im2`, and a 2D mask `mask` (with values in [0,1]). The function should stitch the images, according to the mask.\n",
    "\n",
    "**Note:** The article uses a binary mask in order to choose the value at each point in the pyramid. However, in order to avoid sharp transitions and get appealing results, we need to smooth the mask a bit at each pyramid level. Smooth the `mask` with `5x5` uniform filter before downscaling it."
   ]
  },
  {
   "cell_type": "code",
   "execution_count": null,
   "metadata": {
    "deletable": false,
    "nbgrader": {
     "cell_type": "code",
     "checksum": "29f355b7136394d432cbdc5f49b9bee9",
     "grade": false,
     "grade_id": "image_mosaic",
     "locked": false,
     "schema_version": 3,
     "solution": true
    }
   },
   "outputs": [],
   "source": [
    "def image_mosaic(im1, im2, mask, depth, a):\n",
    "    \"\"\"Stich two images together\n",
    "    \n",
    "    Args:\n",
    "        im1 (np.ndarray): first image to stich (where `mask=0`)\n",
    "        im2 (np.ndarray): second image to stich (where `mask=1`)\n",
    "        mask (np.ndarray): mask to select what part to take from which image\n",
    "        depth (int): how many pyramid levels to use in for smooth result\n",
    "        a (float): kernel parameter\n",
    "    \n",
    "    Returns:\n",
    "        np.ndarray: stiched images according to mask\n",
    "    \"\"\"\n",
    "    # YOUR CODE HERE\n",
    "    raise NotImplementedError()"
   ]
  },
  {
   "cell_type": "markdown",
   "metadata": {
    "deletable": false,
    "editable": false,
    "nbgrader": {
     "cell_type": "markdown",
     "checksum": "905a274e74c4811dcd09c70512967334",
     "grade": false,
     "grade_id": "cell-c6e7e22cfdf9fb20",
     "locked": true,
     "schema_version": 3,
     "solution": false
    }
   },
   "source": [
    "### 2.2.3 Test your method: `image_mosaic()`\n",
    "\n",
    "Run the following tests and make sure that `image_mosaic()` works well."
   ]
  },
  {
   "cell_type": "code",
   "execution_count": null,
   "metadata": {
    "deletable": false,
    "editable": false,
    "nbgrader": {
     "cell_type": "code",
     "checksum": "7dcae0e2de5d227b5efa5a5a0dda5589",
     "grade": true,
     "grade_id": "cell-38e9c41d25efb93a",
     "locked": true,
     "points": 15,
     "schema_version": 3,
     "solution": false
    }
   },
   "outputs": [],
   "source": [
    "MosaicExample = namedtuple('MultiFocusExample', 'name path1 path2 path_mask')\n",
    "test_examples = [\n",
    "    MosaicExample('Orange + Apple',\n",
    "                  'data/mosaic/orange_apple/orange.jpg',\n",
    "                  'data/mosaic/orange_apple/apple.jpg',\n",
    "                  'data/mosaic/orange_apple/orangapple_m.bmp'),\n",
    "    MosaicExample('Monalisa + Obama',\n",
    "                  'data/mosaic/monalisa_obama/monalisa.jpg',\n",
    "                  'data/mosaic/monalisa_obama/obama.jpg',\n",
    "                  'data/mosaic/monalisa_obama/monobama_m.jpg'),\n",
    "    MosaicExample('Michal + Tal',\n",
    "                  'data/mosaic/michal_tal/michal.bmp',\n",
    "                  'data/mosaic/michal_tal/tal.bmp',\n",
    "                  'data/mosaic/michal_tal/michtal_m.bmp'),\n",
    "]\n",
    "examples_outputs = widgets.Accordion(children=[widgets.Output() for _ in range(len(test_examples))])\n",
    "\n",
    "kernel = pyramid_kernel(a)\n",
    "for i, example in enumerate(test_examples):\n",
    "    # set example name\n",
    "    examples_outputs.set_title(i, example.name)\n",
    "    \n",
    "    # plot inside example's area\n",
    "    with examples_outputs.children[i]:\n",
    "        im1 = imread(example.path1)\n",
    "        im2 = imread(example.path2)\n",
    "        mask = imread(example.path_mask)\n",
    "        mosaic_naive = image_mosaic(im1, im2, mask, depth=0, a=a)\n",
    "        mosaic = image_mosaic(im1, im2, mask, depth=depth, a=a)\n",
    "        images = [mosaic, mosaic_naive, im1, im2, mask]\n",
    "        tab_names = ['Mosaic', 'Naive Mosaic', 'Image 1', 'Image 2', 'Mask']\n",
    "        imshow_tabs(images, tab_names)\n",
    "        \n",
    "display(examples_outputs)"
   ]
  }
 ],
 "metadata": {
  "kernelspec": {
   "display_name": "Python 3",
   "language": "python",
   "name": "python3"
  },
  "language_info": {
   "codemirror_mode": {
    "name": "ipython",
    "version": 3
   },
   "file_extension": ".py",
   "mimetype": "text/x-python",
   "name": "python",
   "nbconvert_exporter": "python",
   "pygments_lexer": "ipython3",
   "version": "3.8.3"
  }
 },
 "nbformat": 4,
 "nbformat_minor": 2
}
